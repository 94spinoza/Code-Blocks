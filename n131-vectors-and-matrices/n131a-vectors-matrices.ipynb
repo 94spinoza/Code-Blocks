{
  "nbformat": 4,
  "nbformat_minor": 0,
  "metadata": {
    "colab": {
      "name": "n131a-vectors-matrices.ipynb",
      "provenance": [],
      "collapsed_sections": [],
      "include_colab_link": true
    },
    "kernelspec": {
      "display_name": "Python 3",
      "language": "python",
      "name": "python3"
    },
    "language_info": {
      "codemirror_mode": {
        "name": "ipython",
        "version": 3
      },
      "file_extension": ".py",
      "mimetype": "text/x-python",
      "name": "python",
      "nbconvert_exporter": "python",
      "pygments_lexer": "ipython3",
      "version": "3.8.2"
    }
  },
  "cells": [
    {
      "cell_type": "markdown",
      "metadata": {
        "id": "view-in-github",
        "colab_type": "text"
      },
      "source": [
        "<a href=\"https://colab.research.google.com/github/94spinoza/Code-Blocks/blob/main/n131-vectors-and-matrices/n131a-vectors-matrices.ipynb\" target=\"_parent\"><img src=\"https://colab.research.google.com/assets/colab-badge.svg\" alt=\"Open In Colab\"/></a>"
      ]
    },
    {
      "cell_type": "markdown",
      "metadata": {
        "id": "Y7hxe5O-9ukJ"
      },
      "source": [
        "<img src='https://i.imgur.com/RDAD11M.png' width = '200' align = 'right'>\n",
        "\n",
        "## *DATA SCIENCE / SECTION 1 / SPRINT 3 / NOTE 1*\n",
        "\n",
        "# 📝 Assignment"
      ]
    },
    {
      "cell_type": "markdown",
      "metadata": {
        "id": "yXA3GwWhY9KL"
      },
      "source": [
        "## 1. Portfolio\n",
        "\n",
        "`Dot product` & `Matrix Multiplication` 을 이용하여 다음 포트폴리오의 사람별 총합을 계산하세요.\n",
        "- 결과는 `res`에 list형태로 저장합니다.\n",
        "\n",
        "|People|Name|Price|Amount|\n",
        "|:-:|:-:|:-:|:-:|\n",
        "|X|A|100|35|\n",
        "|X|B|500|10|\n",
        "|X|C|250|25|\n",
        "|X|D|50|40|\n",
        "|Y|A|100|-|\n",
        "|Y|B|500|50|\n",
        "|Y|C|250|50|\n",
        "|Y|D|50|-|\n",
        "|Z|A|100|-|\n",
        "|Z|B|500|-|\n",
        "|Z|C|250|100|\n",
        "|Z|D|50|-|\n",
        "\n"
      ]
    },
    {
      "cell_type": "code",
      "metadata": {
        "id": "ErSR5soVblfv",
        "colab": {
          "base_uri": "https://localhost:8080/"
        },
        "outputId": "96325b00-219f-4e95-e5c3-5929ad119a44"
      },
      "source": [
        "# 이곳에 답안을 작성하시기 바랍니다\n",
        "import pandas as pd\n",
        "import numpy as np\n",
        "\n",
        "portfolio = pd.DataFrame([\n",
        "                          ['X', 'A', 100, 35],\n",
        "                          ['X', 'B', 500, 10],\n",
        "                          ['X', 'C', 250, 25],\n",
        "                          ['X', 'D', 50, 40],\n",
        "                          ['Y', 'A', 100, 0],\n",
        "                          ['Y', 'B', 500, 50],\n",
        "                          ['Y', 'C', 250, 50],\n",
        "                          ['Y', 'D', 50, 0],\n",
        "                          ['Z', 'A', 100, 0],\n",
        "                          ['Z', 'B', 500, 0],\n",
        "                          ['Z', 'C', 250, 100],\n",
        "                          ['Z', 'D', 50, 0]\n",
        "], columns = ['People', 'Name', 'Price', 'Amount'])\n",
        "\n",
        "print(portfolio)\n",
        "\n",
        "res = []\n",
        "\n",
        "def personTotal(df, person):\n",
        "  ind = df[df['People']==person]\n",
        "  ind_total = (ind['Price']*ind['Amount']).sum()\n",
        "  res.append(ind_total)\n",
        "\n",
        "personTotal(portfolio, 'X')\n",
        "personTotal(portfolio, 'Y')\n",
        "personTotal(portfolio, 'Z')\n",
        "\n",
        "res = np.array(res)\n",
        "print(res)"
      ],
      "execution_count": 16,
      "outputs": [
        {
          "output_type": "stream",
          "text": [
            "   People Name  Price  Amount\n",
            "0       X    A    100      35\n",
            "1       X    B    500      10\n",
            "2       X    C    250      25\n",
            "3       X    D     50      40\n",
            "4       Y    A    100       0\n",
            "5       Y    B    500      50\n",
            "6       Y    C    250      50\n",
            "7       Y    D     50       0\n",
            "8       Z    A    100       0\n",
            "9       Z    B    500       0\n",
            "10      Z    C    250     100\n",
            "11      Z    D     50       0\n",
            "[16750 37500 25000]\n"
          ],
          "name": "stdout"
        }
      ]
    },
    {
      "cell_type": "markdown",
      "metadata": {
        "id": "dMgAVgIuGe_B"
      },
      "source": [
        "## 2. Norms\n",
        "\n",
        "주어진 값 $x_0, x_1, ... x_n$ 를 element로 갖는 벡터 $v$에 대하여 \n",
        "\n",
        "$L_1$ Norm 의 정의는 다음과 같습니다. \n",
        "\n",
        "$|v| = |x_0| + |x_1| + ... + |x_n|$\n",
        "\n",
        "$L_2$ Norm 의 정의는 다음과 같습니다.\n",
        "\n",
        "$||v|| = \\sqrt {{x_0}^2 + {x_1}^2 + ... + {x_n}^2}$\n",
        "\n",
        "이를 참조하여 주어진 벡터에 대해서 $L_2$ Norm 의 값과 $L_1$ Norm 의 값의 차이(**절대값**)를 계산하는 함수를 만드세요.\n",
        "\n"
      ]
    },
    {
      "cell_type": "code",
      "metadata": {
        "id": "XrYfAExIGemC",
        "colab": {
          "base_uri": "https://localhost:8080/"
        },
        "outputId": "15c1a6f9-8175-445e-82d2-50353a16b90d"
      },
      "source": [
        "from numpy import linalg as la\n",
        "\n",
        "def NormDif(v): # v = np.array()\n",
        "    norm1 = la.norm(v,1)\n",
        "    norm2 = la.norm(v,2)\n",
        "    return abs(norm1-norm2)"
      ],
      "execution_count": 22,
      "outputs": [
        {
          "output_type": "stream",
          "text": [
            "2.0\n"
          ],
          "name": "stdout"
        }
      ]
    },
    {
      "cell_type": "markdown",
      "metadata": {
        "id": "VBJHWdyalU4G"
      },
      "source": [
        "## 3. Errors\n",
        "\n",
        "\n",
        "\n",
        "- 2개의 벡터와, error의 타입을 입력받아 그 결과값을 계산하는 함수를 작성하세요.\n",
        "\n",
        "- 여기서 error의 타입은 `MSE`, `MAE` 2가지 입니다.\n",
        "\n"
      ]
    },
    {
      "cell_type": "code",
      "metadata": {
        "id": "LQy8_pEUHHDC",
        "colab": {
          "base_uri": "https://localhost:8080/"
        },
        "outputId": "317274c7-3469-49c6-a1ea-2805da740d35"
      },
      "source": [
        "from sklearn.metrics import mean_squared_error \n",
        "from sklearn.metrics import mean_absolute_error\n",
        "\n",
        "def error(x, y, type) :\n",
        "    if type == 'MSE':\n",
        "      mse = mean_squared_error(x, y)\n",
        "      return mse\n",
        "    elif type == 'MAE':\n",
        "      mae = mean_absolute_error(x, y)\n",
        "      return mae\n",
        "    else:\n",
        "      return None"
      ],
      "execution_count": 24,
      "outputs": [
        {
          "output_type": "stream",
          "text": [
            "True\n",
            "True\n"
          ],
          "name": "stdout"
        }
      ]
    },
    {
      "cell_type": "markdown",
      "metadata": {
        "id": "l2Teph_aS16e"
      },
      "source": [
        "# 4. Inverse\n",
        "\n",
        "- 주어진 matrix에 대해서 inverse matrix를 계산하여 반환하는 함수를 작성하세요. \n",
        "- 이 때 inverse 계산이 불가능 한 경우 `-1` 을 반환합니다."
      ]
    },
    {
      "cell_type": "code",
      "metadata": {
        "id": "1hseshZkS1eX",
        "colab": {
          "base_uri": "https://localhost:8080/"
        },
        "outputId": "47cba9a1-9e65-42b1-8b50-d274024444e7"
      },
      "source": [
        "def myInverse(m) :\n",
        "  try:\n",
        "    inv = la.inv(m)\n",
        "    return la.inv(m)\n",
        "  except:\n",
        "    return -1\n",
        "\n",
        "print(myInverse(np.array([[1, 2], [2, 4]])))"
      ],
      "execution_count": 34,
      "outputs": [
        {
          "output_type": "stream",
          "text": [
            "-1\n"
          ],
          "name": "stdout"
        }
      ]
    },
    {
      "cell_type": "markdown",
      "metadata": {
        "id": "V0iTO4McYjtk"
      },
      "source": [
        "# 🔥 도전과제 \n",
        "\n"
      ]
    },
    {
      "cell_type": "markdown",
      "metadata": {
        "id": "3p45qAIGFTBZ"
      },
      "source": [
        "다음 링크의 내용을 참조하여 **Cramer's rule**을 사용해 $x_1$, $x_2$, $x_3$의 값을 구하세요.\n",
        "\n",
        "<https://youtu.be/6StS7VjtuGI>\n",
        "\n",
        "\n",
        "$x_1$ + $2x_3$ = 6\n",
        "\n",
        "$-3x_1$ + $4x_2$ + $6x3$ = 30\n",
        "\n",
        "$-x_1$ $-2x_2$ + $3x_3$ = 8\n",
        "\n"
      ]
    }
  ]
}